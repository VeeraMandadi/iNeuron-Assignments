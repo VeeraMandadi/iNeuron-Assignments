{
 "cells": [
  {
   "cell_type": "markdown",
   "metadata": {},
   "source": [
    "1.1 Write a Python Program(with class concepts) to find the area of the triangle using the below\n",
    "formula.\n",
    "area = (s*(s-a)*(s-b)*(s-c)) ** 0.5\n",
    "Function to take the length of the sides of triangle from user should be defined in the parent\n",
    "class and function to calculate the area should be defined in subclass."
   ]
  },
  {
   "cell_type": "code",
   "execution_count": 1,
   "metadata": {},
   "outputs": [
    {
     "name": "stdout",
     "output_type": "stream",
     "text": [
      "Enter sides 1 for Triangle :23\n",
      "Enter sides 2 for Triangle :45.33\n",
      "Enter sides 3 for Triangle :39.211\n",
      "Side 1 of Triangle is: 23.0\n",
      "Side 2 of Triangle is: 45.33\n",
      "Side 3 of Triangle is: 39.211\n",
      "semi-perimeter is: 53.7705\n",
      "Area of Triangle is: 450.91702352427797\n"
     ]
    }
   ],
   "source": [
    "class shapes:\n",
    "    def __init__(self):\n",
    "        self.sides=[0 for i in range(3)]\n",
    "    def inputsides(self):\n",
    "        self.sides=[float(input(\"Enter sides \" + str(i+1) + \" for Triangle :\")) for i in range(3)]\n",
    "        \n",
    "    def displaysides(self):\n",
    "        for i in range(len(self.sides)):\n",
    "            print(\"Side\", i+1, \"of Triangle is:\",self.sides[i])\n",
    "        \n",
    "class triangle(shapes):\n",
    "    def __init__(self):\n",
    "         super().__init__()\n",
    "   \n",
    "    def findarea(self):\n",
    "        a,b,c=self.sides\n",
    "        s=(a+b+c)/2\n",
    "        print(\"semi-perimeter is:\",s)\n",
    "        return (s*(s-a)*(s-b)*(s-c))**0.5\n",
    "        \n",
    "\n",
    "tr=triangle()\n",
    "tr.inputsides()\n",
    "tr.displaysides()\n",
    "area=tr.findarea()\n",
    "print(\"Area of Triangle is:\",area)"
   ]
  },
  {
   "cell_type": "markdown",
   "metadata": {},
   "source": [
    "1.2 Write a function filter_long_words() that takes a list of words and an integer n and returns\n",
    "the list of words that are longer than n."
   ]
  },
  {
   "cell_type": "code",
   "execution_count": 2,
   "metadata": {},
   "outputs": [
    {
     "name": "stdout",
     "output_type": "stream",
     "text": [
      "['this is a cat', 'tree', 'birthday']\n"
     ]
    }
   ],
   "source": [
    "mylist1=[]\n",
    "def filter_long_words(mylist,n):\n",
    "    for i in mylist:\n",
    "        if len(i)>n:\n",
    "            mylist1.append(i)\n",
    "    return mylist1\n",
    "\n",
    "mylist=['this is a cat','tree','dog','birthday']\n",
    "print(filter_long_words(mylist,3))"
   ]
  },
  {
   "cell_type": "markdown",
   "metadata": {},
   "source": [
    "2.1 Write a Python program using function concept that maps list of words into a list of integers\n",
    "representing the lengths of the corresponding words.\n",
    "Hint: If a list [ ab,cde,erty] is passed on to the python function output should come as [2,3,4]\n",
    "Here 2,3 and 4 are the lengths of the words in the list."
   ]
  },
  {
   "cell_type": "code",
   "execution_count": 3,
   "metadata": {},
   "outputs": [
    {
     "name": "stdout",
     "output_type": "stream",
     "text": [
      "[4, 3, 4, 6, 9]\n"
     ]
    }
   ],
   "source": [
    "numlist=[]\n",
    "def word2num(wordlist):\n",
    "    for i in wordlist:\n",
    "        numlist.append(len(i))\n",
    "    return numlist\n",
    "\n",
    "mylist=['name','car','road','mobile','big truck']\n",
    "print(word2num(mylist))"
   ]
  },
  {
   "cell_type": "markdown",
   "metadata": {},
   "source": [
    "2.2 Write a Python function which takes a character (i.e. a string of length 1) and returns True if\n",
    "it is a vowel, False otherwise."
   ]
  },
  {
   "cell_type": "code",
   "execution_count": 4,
   "metadata": {},
   "outputs": [
    {
     "name": "stdout",
     "output_type": "stream",
     "text": [
      "True\n"
     ]
    }
   ],
   "source": [
    "vowelslist=['A', 'a','E','e' ,'I','i', 'O','o','U','u']\n",
    "\n",
    "def vowels(mychar):\n",
    "    if (mychar in vowelslist):\n",
    "        return True\n",
    "    else:\n",
    "        return False\n",
    "\n",
    "print(vowels('A'))\n",
    "    "
   ]
  }
 ],
 "metadata": {
  "kernelspec": {
   "display_name": "Python 3",
   "language": "python",
   "name": "python3"
  },
  "language_info": {
   "codemirror_mode": {
    "name": "ipython",
    "version": 3
   },
   "file_extension": ".py",
   "mimetype": "text/x-python",
   "name": "python",
   "nbconvert_exporter": "python",
   "pygments_lexer": "ipython3",
   "version": "3.7.4"
  }
 },
 "nbformat": 4,
 "nbformat_minor": 2
}
